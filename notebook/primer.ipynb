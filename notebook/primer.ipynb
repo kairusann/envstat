{
 "metadata": {
  "name": "",
  "signature": "sha256:8f45807ef10e4170f2aacec4e5db8708b0b2a6fbec5577d24c156b261fb2947d"
 },
 "nbformat": 3,
 "nbformat_minor": 0,
 "worksheets": [
  {
   "cells": [
    {
     "cell_type": "heading",
     "level": 1,
     "metadata": {},
     "source": [
      "Application of Weighted Sum"
     ]
    },
    {
     "cell_type": "markdown",
     "metadata": {},
     "source": [
      "_by Kaipeng Zhong_"
     ]
    },
    {
     "cell_type": "markdown",
     "metadata": {},
     "source": [
      "Weighted sum is a modified version of **mean** that hopefully achieving the goal of a fair comparison. Start from the most simple equation for calculating **mean**:"
     ]
    },
    {
     "cell_type": "markdown",
     "metadata": {},
     "source": [
      "\\begin{equation*}\n",
      "E(X) = \\frac{1}{n} \\sum_{i=1}^n X_i\n",
      "\\end{equation*}"
     ]
    },
    {
     "cell_type": "markdown",
     "metadata": {},
     "source": [
      "The underlying assumption for this equation is all the samples are the same. But, what if some samples are more important than others? "
     ]
    },
    {
     "cell_type": "markdown",
     "metadata": {},
     "source": [
      "\\begin{equation*}\n",
      "E(X) = \\sum_{i=1}^n w X_i\n",
      "\\end{equation*}"
     ]
    },
    {
     "cell_type": "markdown",
     "metadata": {},
     "source": [
      "In this"
     ]
    },
    {
     "cell_type": "code",
     "collapsed": false,
     "input": [
      "cd C:\\Users\\Kyle\\Documents\\JHU\\14Fall\\Remote Sensing of the Environment\\Term_Project\\data\\"
     ],
     "language": "python",
     "metadata": {},
     "outputs": [
      {
       "output_type": "stream",
       "stream": "stdout",
       "text": [
        "C:\\Users\\Kyle\\Documents\\JHU\\14Fall\\Remote Sensing of the Environment\\Term_Project\\data\n"
       ]
      }
     ],
     "prompt_number": 3
    },
    {
     "cell_type": "code",
     "collapsed": false,
     "input": [
      "from pylab import *\n",
      "import numpy as np\n",
      "from pandas import DataFrame, Series\n",
      "from scipy.spatial.distance import pdist, squareform"
     ],
     "language": "python",
     "metadata": {},
     "outputs": []
    }
   ],
   "metadata": {}
  }
 ]
}
