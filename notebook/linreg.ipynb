{
 "metadata": {
  "name": "",
  "signature": "sha256:7099ea1b21a97d2cc0fb63fa03e49149c97f267697711e092360465c5e821652"
 },
 "nbformat": 3,
 "nbformat_minor": 0,
 "worksheets": [
  {
   "cells": [
    {
     "cell_type": "heading",
     "level": 1,
     "metadata": {},
     "source": [
      "Linear Regression"
     ]
    },
    {
     "cell_type": "markdown",
     "metadata": {},
     "source": [
      "Linear regression example: This is a very simple example of using two scipy tools for linear regression, polyfit and stats.linregress.  \n",
      "The first step will always be loading required libraries and creating sample data."
     ]
    },
    {
     "cell_type": "code",
     "collapsed": false,
     "input": [
      "from scipy import linspace, polyval, polyfit, sqrt, stats, randn\n",
      "from pylab import plot, title, show , legend\n",
      "%matplotlib inline\n",
      "\n",
      "n = 50 # number of points\n",
      "t = linspace(-5,5,n)\n",
      "t"
     ],
     "language": "python",
     "metadata": {},
     "outputs": [
      {
       "metadata": {},
       "output_type": "pyout",
       "prompt_number": 12,
       "text": [
        "array([-5.        , -4.79591837, -4.59183673, -4.3877551 , -4.18367347,\n",
        "       -3.97959184, -3.7755102 , -3.57142857, -3.36734694, -3.16326531,\n",
        "       -2.95918367, -2.75510204, -2.55102041, -2.34693878, -2.14285714,\n",
        "       -1.93877551, -1.73469388, -1.53061224, -1.32653061, -1.12244898,\n",
        "       -0.91836735, -0.71428571, -0.51020408, -0.30612245, -0.10204082,\n",
        "        0.10204082,  0.30612245,  0.51020408,  0.71428571,  0.91836735,\n",
        "        1.12244898,  1.32653061,  1.53061224,  1.73469388,  1.93877551,\n",
        "        2.14285714,  2.34693878,  2.55102041,  2.75510204,  2.95918367,\n",
        "        3.16326531,  3.36734694,  3.57142857,  3.7755102 ,  3.97959184,\n",
        "        4.18367347,  4.3877551 ,  4.59183673,  4.79591837,  5.        ])"
       ]
      }
     ],
     "prompt_number": 12
    },
    {
     "cell_type": "markdown",
     "metadata": {},
     "source": [
      "Using linspace(), 50 data points were created within the interval [-5, 5]. Construct a trend with noise. "
     ]
    },
    {
     "cell_type": "code",
     "collapsed": false,
     "input": [
      "a=0.8; b=-4 #parameters\n",
      "x=polyval([a,b],t)\n",
      "xn=x+randn(n) #add some noise\n",
      "#Linear regressison -polyfit - polyfit can be used other orders polys\n",
      "(ar,br)=polyfit(t,xn,1)\n",
      "xr=polyval([ar,br],t)\n",
      "#Linear regression using stats.linregress\n",
      "(a_s,b_s,r,tt,stderr)=stats.linregress(t,xn)\n",
      "\n",
      "#compute the mean square error\n",
      "err=sqrt(sum((xr-xn)**2)/n)\n",
      "\n",
      "print('Linear regression using polyfit')\n",
      "print('parameters: a=%.2f b=%.2f \\nregression: a=%.2f b=%.2f, ms error= %.3f' % (a,b,ar,br,err))\n",
      "print('Linear regression using stats.linregress')\n",
      "print('parameters: a=%.2f b=%.2f \\nregression: a=%.2f b=%.2f, std error= %.3f' % (a,b,a_s,b_s,stderr))"
     ],
     "language": "python",
     "metadata": {},
     "outputs": [
      {
       "output_type": "stream",
       "stream": "stdout",
       "text": [
        "Linear regression using polyfit\n",
        "parameters: a=0.80 b=-4.00 \n",
        "regression: a=0.78 b=-4.10, ms error= 0.801\n",
        "Linear regression using stats.linregress\n",
        "parameters: a=0.80 b=-4.00 \n",
        "regression: a=0.78 b=-4.10, std error= 0.039\n"
       ]
      }
     ],
     "prompt_number": 14
    },
    {
     "cell_type": "markdown",
     "metadata": {},
     "source": [
      "Not bad! To be clear, let's plot the result."
     ]
    },
    {
     "cell_type": "code",
     "collapsed": false,
     "input": [
      "#matplotlib ploting\n",
      "title('Linear Regression Example')\n",
      "plot(t,x,'g.--')\n",
      "plot(t,xn,'k.')\n",
      "plot(t,xr,'r.-')\n",
      "legend(['original','plus noise', 'regression'])"
     ],
     "language": "python",
     "metadata": {},
     "outputs": [
      {
       "metadata": {},
       "output_type": "pyout",
       "prompt_number": 13,
       "text": [
        "<matplotlib.legend.Legend at 0xa660e10>"
       ]
      },
      {
       "metadata": {},
       "output_type": "display_data",
       "png": "[encoded data removed]",
       "text": [
        "<matplotlib.figure.Figure at 0xa2919b0>"
       ]
      }
     ],
     "prompt_number": 13
    },
    {
     "cell_type": "markdown",
     "metadata": {},
     "source": [
      "The same result could be obtained using a different packages: stat.linregress()"
     ]
    },
    {
     "cell_type": "code",
     "collapsed": false,
     "input": [],
     "language": "python",
     "metadata": {},
     "outputs": [
      {
       "output_type": "stream",
       "stream": "stdout",
       "text": [
        "Linear regression using stats.linregress\n",
        "parameters: a=0.80 b=-4.00 \n",
        "regression: a=0.76 b=-3.73, std error= 0.046\n"
       ]
      }
     ],
     "prompt_number": 11
    },
    {
     "cell_type": "markdown",
     "metadata": {},
     "source": [
      "#### Adapted from official scipy documentation."
     ]
    }
   ],
   "metadata": {}
  }
 ]
}